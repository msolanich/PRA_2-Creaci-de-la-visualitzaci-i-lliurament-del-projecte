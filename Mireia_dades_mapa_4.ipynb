{
 "cells": [
  {
   "cell_type": "markdown",
   "metadata": {},
   "source": [
    "https://colab.research.google.com/drive/1BWfXx0O4_8FU9eyGnbcoimKNCf9H80Cn"
   ]
  },
  {
   "cell_type": "code",
   "execution_count": 1,
   "metadata": {},
   "outputs": [],
   "source": [
    "import pandas as pd\n",
    "import numpy as np\n",
    "import datetime"
   ]
  },
  {
   "cell_type": "markdown",
   "metadata": {},
   "source": [
    "# CAUSES"
   ]
  },
  {
   "cell_type": "code",
   "execution_count": 2,
   "metadata": {},
   "outputs": [],
   "source": [
    "# causes\n",
    "\n",
    "causes_2020 = pd.read_csv (\"https://opendata-ajuntament.barcelona.cat/data/dataset/719b1054-4166-4692-b63e-622b621b4293/resource/cead1184-7e1b-4872-93ce-ed909b995a6d/download/2020_accidents_causes_gu_bcn.csv\", encoding=\"utf-8\")\n",
    "causes_2019 = pd.read_csv (\"https://opendata-ajuntament.barcelona.cat/data/dataset/719b1054-4166-4692-b63e-622b621b4293/resource/e9946c60-64e8-44c4-bce5-5de78adbe190/download/2019_accidents_causes_gu_bcn_.csv\", encoding=\"utf-8\")\n",
    "causes_2018 = pd.read_csv (\"https://opendata-ajuntament.barcelona.cat/data/dataset/719b1054-4166-4692-b63e-622b621b4293/resource/200fa1e2-7188-4a01-9b3d-e4ac0016528e/download/2018_accidents_causes_gu_bcn_.csv\", encoding=\"utf-8\")"
   ]
  },
  {
   "cell_type": "code",
   "execution_count": 3,
   "metadata": {},
   "outputs": [],
   "source": [
    "causes_2018 = causes_2018\\\n",
    "    .rename(columns = {\"Any\":\"NK_Any\"})"
   ]
  },
  {
   "cell_type": "code",
   "execution_count": 4,
   "metadata": {},
   "outputs": [],
   "source": [
    "causes_tot = pd.concat([causes_2020, causes_2019, causes_2018])"
   ]
  },
  {
   "cell_type": "code",
   "execution_count": null,
   "metadata": {},
   "outputs": [],
   "source": []
  },
  {
   "cell_type": "markdown",
   "metadata": {},
   "source": [
    "# TIPUS"
   ]
  },
  {
   "cell_type": "code",
   "execution_count": 5,
   "metadata": {},
   "outputs": [],
   "source": [
    "# TIPUS\n",
    "\n",
    "tipus_2020 = pd.read_csv (\"https://opendata-ajuntament.barcelona.cat/data/dataset/834b8920-0685-4e16-8e20-faf13645f4f3/resource/86a3b39c-3cbc-4efd-977a-92ec9cb1b48a/download/2020_accidents_tipus_gu_bcn.csv\")\n",
    "tipus_2019 = pd.read_csv (\"https://opendata-ajuntament.barcelona.cat/data/dataset/834b8920-0685-4e16-8e20-faf13645f4f3/resource/4bf617c6-7fe0-4e6a-b010-1c6fef544a31/download/2019_accidents_tipus_gu_bcn_.csv\")\n",
    "tipus_2018 = pd.read_csv (\"https://opendata-ajuntament.barcelona.cat/data/dataset/834b8920-0685-4e16-8e20-faf13645f4f3/resource/1f43e605-4ace-4134-a18b-5a329bf9000c/download/2018_accidents_tipus_gu_bcn_.csv\")"
   ]
  },
  {
   "cell_type": "code",
   "execution_count": 6,
   "metadata": {},
   "outputs": [],
   "source": [
    "tipus_2018 = tipus_2018\\\n",
    "    .rename(columns = {\"Codi_expedient\":\"Numero_expedient\"})\\\n",
    "    .rename(columns = {\"Num_postal \":\"Num_postal_caption\"})\\\n",
    "    .rename(columns = {\"Dia_setmana\":\"Descripcio_dia_setmana\"})\\\n",
    "    .rename(columns = {\"ID_Dia_setmana\":\"Dia_setmana\"})\\\n",
    "    .rename(columns = {\"Tipus_dia\":\"Descripcio_tipus_dia\"})\\\n",
    "    .rename(columns = {\"Any\":\"NK_Any\"})\\\n",
    "    .rename(columns = {\"Mes\":\"Mes_any\"})\\\n",
    "    .rename(columns = {\"Dia_de_mes\":\"Dia_mes\"})\\\n",
    "    .rename(columns = {\"Hora_de_dia\":\"Hora_dia\"})\\\n",
    "    .rename(columns = {\"Torn\":\"Descripcio_torn\"})\\\n",
    "    .rename(columns = {\"Tipus_accident\":\"Descripcio_tipus_accident\"})"
   ]
  },
  {
   "cell_type": "code",
   "execution_count": 7,
   "metadata": {},
   "outputs": [],
   "source": [
    "tipus_tot = pd.concat([tipus_2020, tipus_2019, tipus_2018])"
   ]
  },
  {
   "cell_type": "code",
   "execution_count": 8,
   "metadata": {},
   "outputs": [],
   "source": [
    "#tipus_tot.columns"
   ]
  },
  {
   "cell_type": "code",
   "execution_count": null,
   "metadata": {},
   "outputs": [],
   "source": []
  },
  {
   "cell_type": "markdown",
   "metadata": {},
   "source": [
    "# ACCIDENTS"
   ]
  },
  {
   "cell_type": "code",
   "execution_count": 9,
   "metadata": {},
   "outputs": [],
   "source": [
    "# ACCIDENTS\n",
    "\n",
    "accidents_2020 = pd.read_csv (\"https://opendata-ajuntament.barcelona.cat/data/dataset/e769eb9d-d778-4cd7-9e3a-5858bba49b20/resource/bcfc0866-7e2a-4054-9a93-fb3f371fc5eb/download/2020_accidents_gu_bcn.csv\")\n",
    "accidents_2019 = pd.read_csv (\"https://opendata-ajuntament.barcelona.cat/data/dataset/e769eb9d-d778-4cd7-9e3a-5858bba49b20/resource/7a376881-0767-4ec2-bb41-12f4b645f1df/download/2019_accidents_gu_bcn.csv\")\n",
    "accidents_2018 = pd.read_csv (\"https://opendata-ajuntament.barcelona.cat/data/dataset/e769eb9d-d778-4cd7-9e3a-5858bba49b20/resource/f94d9ac3-e46e-47cd-a3d0-a9b5b9639d86/download/2018_accidents_gu_bcn.csv\")"
   ]
  },
  {
   "cell_type": "code",
   "execution_count": 10,
   "metadata": {},
   "outputs": [],
   "source": [
    "accidents_2018 = accidents_2018\\\n",
    "    .rename(columns = {\"Any\":\"NK_Any\"})\\\n",
    "    .rename(columns = {\"Num_postal \":\"Num_postal_caption\"})\n",
    "\n",
    "accidents_2020['Dia_setmana'] = accidents_2020['Dia_setmana'].map({1:'Dl',\n",
    "                             2:'Dm', 3:'Dc', 4:'Dj', 5:'Dv', 6:'Ds', 7:'Dg'})"
   ]
  },
  {
   "cell_type": "code",
   "execution_count": 11,
   "metadata": {},
   "outputs": [],
   "source": [
    "accidents_tot = pd.concat([accidents_2020, accidents_2019, accidents_2018])"
   ]
  },
  {
   "cell_type": "code",
   "execution_count": 12,
   "metadata": {},
   "outputs": [],
   "source": [
    "#accidents_2020.columns"
   ]
  },
  {
   "cell_type": "code",
   "execution_count": null,
   "metadata": {},
   "outputs": [],
   "source": []
  },
  {
   "cell_type": "markdown",
   "metadata": {},
   "source": [
    "# UNIO: causes - tipus - accidents"
   ]
  },
  {
   "cell_type": "code",
   "execution_count": 13,
   "metadata": {},
   "outputs": [
    {
     "data": {
      "text/plain": [
       "Index(['Numero_expedient', 'Codi_districte', 'Nom_districte', 'Codi_barri',\n",
       "       'Nom_barri', 'Codi_carrer', 'Nom_carrer', 'Num_postal ',\n",
       "       'Descripcio_dia_setmana', 'Dia_setmana', 'Descripcio_tipus_dia',\n",
       "       'NK_Any', 'Mes_any', 'Nom_mes', 'Dia_mes', 'Hora_dia',\n",
       "       'Descripcio_torn', 'Descripcio_causa_mediata', 'Longitud', 'Latitud'],\n",
       "      dtype='object')"
      ]
     },
     "execution_count": 13,
     "metadata": {},
     "output_type": "execute_result"
    }
   ],
   "source": [
    "causes_tot = causes_tot.filter(['Numero_expedient','Codi_districte','Nom_districte','Codi_barri'\n",
    ",'Nom_barri','Codi_carrer','Nom_carrer','Num_postal '\n",
    ",'Descripcio_dia_setmana','Dia_setmana','Descripcio_tipus_dia','NK_Any','Mes_any','Nom_mes'\n",
    ",'Dia_mes','Hora_dia','Descripcio_torn','Descripcio_causa_mediata','Longitud','Latitud'\n",
    "])\n",
    "causes_tot.columns"
   ]
  },
  {
   "cell_type": "code",
   "execution_count": 14,
   "metadata": {},
   "outputs": [
    {
     "data": {
      "text/plain": [
       "Index(['Numero_expedient', 'Num_postal_caption', 'Descripcio_tipus_accident'], dtype='object')"
      ]
     },
     "execution_count": 14,
     "metadata": {},
     "output_type": "execute_result"
    }
   ],
   "source": [
    "tipus_tot = tipus_tot.filter([\"Numero_expedient\",\"Num_postal_caption\",\"Descripcio_tipus_accident\"])\n",
    "tipus_tot.columns"
   ]
  },
  {
   "cell_type": "code",
   "execution_count": 15,
   "metadata": {},
   "outputs": [
    {
     "data": {
      "text/plain": [
       "Index(['Numero_expedient', 'Descripcio_causa_vianant', 'Numero_morts',\n",
       "       'Numero_lesionats_lleus', 'Numero_lesionats_greus', 'Numero_victimes',\n",
       "       'Numero_vehicles_implicats'],\n",
       "      dtype='object')"
      ]
     },
     "execution_count": 15,
     "metadata": {},
     "output_type": "execute_result"
    }
   ],
   "source": [
    "accidents_tot = accidents_tot.filter([\"Numero_expedient\",'Descripcio_causa_vianant'\n",
    ",'Numero_morts','Numero_lesionats_lleus','Numero_lesionats_greus','Numero_victimes'\n",
    ",'Numero_vehicles_implicats'])\n",
    "accidents_tot.columns"
   ]
  },
  {
   "cell_type": "code",
   "execution_count": 16,
   "metadata": {},
   "outputs": [],
   "source": [
    "df_causes_tipus = pd.merge(causes_tot, tipus_tot, on='Numero_expedient', how='inner')\n",
    "#df_causes_tipus.columns"
   ]
  },
  {
   "cell_type": "code",
   "execution_count": 17,
   "metadata": {},
   "outputs": [
    {
     "data": {
      "text/plain": [
       "Index(['Numero_expedient', 'Codi_districte', 'Nom_districte', 'Codi_barri',\n",
       "       'Nom_barri', 'Codi_carrer', 'Nom_carrer', 'Num_postal ',\n",
       "       'Descripcio_dia_setmana', 'Dia_setmana', 'Descripcio_tipus_dia',\n",
       "       'NK_Any', 'Mes_any', 'Nom_mes', 'Dia_mes', 'Hora_dia',\n",
       "       'Descripcio_torn', 'Descripcio_causa_mediata', 'Longitud', 'Latitud',\n",
       "       'Num_postal_caption', 'Descripcio_tipus_accident',\n",
       "       'Descripcio_causa_vianant', 'Numero_morts', 'Numero_lesionats_lleus',\n",
       "       'Numero_lesionats_greus', 'Numero_victimes',\n",
       "       'Numero_vehicles_implicats'],\n",
       "      dtype='object')"
      ]
     },
     "execution_count": 17,
     "metadata": {},
     "output_type": "execute_result"
    }
   ],
   "source": [
    "df_causes_tipus_accidents = pd.merge(df_causes_tipus, accidents_tot, on='Numero_expedient', how='inner')\n",
    "df_causes_tipus_accidents.columns"
   ]
  },
  {
   "cell_type": "code",
   "execution_count": 18,
   "metadata": {},
   "outputs": [],
   "source": [
    "#df_causes_tipus_accidents.count()"
   ]
  },
  {
   "cell_type": "code",
   "execution_count": 19,
   "metadata": {},
   "outputs": [],
   "source": [
    "df_cta = df_causes_tipus_accidents.drop_duplicates([\"Numero_expedient\"],keep='last')\n"
   ]
  },
  {
   "cell_type": "code",
   "execution_count": 20,
   "metadata": {},
   "outputs": [],
   "source": [
    "#df_cta.groupby([\"Numero_expedient\"])[\"Numero_expedient\"].count().sort_values(ascending = False).head()"
   ]
  },
  {
   "cell_type": "code",
   "execution_count": 21,
   "metadata": {},
   "outputs": [],
   "source": [
    "df_cta = df_cta[(df_cta.Latitud >= 41) & (df_cta.Latitud <= 42) & (df_cta.Longitud >= 2) & (df_cta.Longitud <= 3)]"
   ]
  },
  {
   "cell_type": "code",
   "execution_count": 22,
   "metadata": {},
   "outputs": [],
   "source": [
    "df_cta['dateInt']=df_cta['NK_Any'].astype(str) + df_cta['Mes_any'].astype(str).str.zfill(2)+ df_cta['Dia_mes'].astype(str).str.zfill(2)\n",
    "df_cta['Date'] = pd.to_datetime(df_cta['dateInt'], format='%Y%m%d').dt.date\n",
    "\n",
    "\n",
    "#df_cta['Data_fet'] = df_cta['Date'].dt.date"
   ]
  },
  {
   "cell_type": "code",
   "execution_count": 23,
   "metadata": {},
   "outputs": [],
   "source": [
    "#df_cta['Hora'] = df_cta['Hora_dia'].dt.hour"
   ]
  },
  {
   "cell_type": "code",
   "execution_count": null,
   "metadata": {},
   "outputs": [],
   "source": []
  },
  {
   "cell_type": "markdown",
   "metadata": {},
   "source": [
    "# vehicles"
   ]
  },
  {
   "cell_type": "code",
   "execution_count": 24,
   "metadata": {},
   "outputs": [],
   "source": [
    "# Vehicles\n",
    "\n",
    "vehicles_2020 = pd.read_csv (\"https://opendata-ajuntament.barcelona.cat/data/dataset/317e3743-fb79-4d2f-a128-5f12d2c9a55a/resource/7f3016ad-c569-4ae4-8a23-8a292f2b2c5f/download/2020_accidents_vehicles_gu_bcn.csv\")\n",
    "vehicles_2019 = pd.read_csv (\"https://opendata-ajuntament.barcelona.cat/data/dataset/317e3743-fb79-4d2f-a128-5f12d2c9a55a/resource/f773b7eb-0e2f-467a-86c8-b90e9fd7d29a/download/2019_accidents_vehicles_gu_bcn_.csv\")\n",
    "vehicles_2018 = pd.read_csv (\"https://opendata-ajuntament.barcelona.cat/data/dataset/317e3743-fb79-4d2f-a128-5f12d2c9a55a/resource/6e2daeb5-e359-43ad-b0b5-7fdf438c8d6f/download/2018_accidents_vehicles_gu_bcn_.csv\")"
   ]
  },
  {
   "cell_type": "code",
   "execution_count": 25,
   "metadata": {},
   "outputs": [],
   "source": [
    "vehicles_2020 = vehicles_2020\\\n",
    "    .rename(columns = {\"Num_postal\":\"Numero_postal\"})\\\n",
    "    .rename(columns = {\"Dia_setmana\":\"Desc_dia_setmana\"})\\\n",
    "    .rename(columns = {\"ID_Dia_setmana\":\"Codi_dia_setmana\"})\n",
    "\n",
    "vehicles_2019 = vehicles_2019\\\n",
    "    .rename(columns = {\"Num_postal\":\"Numero_postal\"})\\\n",
    "    .rename(columns = {\"Dia_setmana\":\"Desc_dia_setmana\"})\\\n",
    "    .rename(columns = {\"ID_Dia_setmana\":\"Codi_dia_setmana\"})\n",
    "\n",
    "vehicles_2018 = vehicles_2018\\\n",
    "    .rename(columns = {\"Codi_expedient\":\"Numero_expedient\"})\\\n",
    "    .rename(columns = {\"Any\":\"NK_Any\"})\\\n",
    "    .rename(columns = {\"Num_postal \":\"Numero_postal\"})\\\n",
    "    .rename(columns = {\"Dia_setmana\":\"Desc_dia_setmana\"})\\\n",
    "    .rename(columns = {\"ID_Dia_setmana\":\"Codi_dia_setmana\"})"
   ]
  },
  {
   "cell_type": "code",
   "execution_count": 26,
   "metadata": {},
   "outputs": [],
   "source": [
    "vehicles_tot = pd.concat([vehicles_2020, vehicles_2019, vehicles_2018])"
   ]
  },
  {
   "cell_type": "code",
   "execution_count": 27,
   "metadata": {},
   "outputs": [
    {
     "data": {
      "text/plain": [
       "Index(['Numero_expedient', 'Codi_districte', 'Nom_districte', 'Codi_barri',\n",
       "       'Nom_barri', 'Codi_carrer', 'Nom_carrer', 'Numero_postal',\n",
       "       'Descripcio_dia_setmana', 'Desc_dia_setmana', 'Descripcio_tipus_dia',\n",
       "       'NK_Any', 'Mes_any', 'Nom_mes', 'Dia_mes', 'Hora_dia',\n",
       "       'Descripcio_torn', 'Descripcio_causa_vianant',\n",
       "       'Descripcio_tipus_vehicle', 'Descripcio_model', 'Descripcio_marca',\n",
       "       'Descripcio_color', 'Descripcio_carnet', 'Antiguitat_carnet',\n",
       "       'Coordenada_UTM_X', 'Coordenada_UTM_Y', 'Latitud', 'Longitud'],\n",
       "      dtype='object')"
      ]
     },
     "execution_count": 27,
     "metadata": {},
     "output_type": "execute_result"
    }
   ],
   "source": [
    "vehicles_tot.columns"
   ]
  },
  {
   "cell_type": "code",
   "execution_count": null,
   "metadata": {},
   "outputs": [],
   "source": []
  },
  {
   "cell_type": "markdown",
   "metadata": {},
   "source": [
    "# persones"
   ]
  },
  {
   "cell_type": "code",
   "execution_count": 28,
   "metadata": {},
   "outputs": [],
   "source": [
    "# Persones\n",
    "\n",
    "persones_2020 = pd.read_csv (\"https://opendata-ajuntament.barcelona.cat/data/dataset/87aa433e-fef8-4ff4-8f9a-d66e9beefff6/resource/3df166fe-ceec-4b20-811d-4b58c29d7cb1/download/2020_accidents_persones_gu_bcn.csv\", encoding=\"utf-8\")\n",
    "persones_2019 = pd.read_csv (\"https://opendata-ajuntament.barcelona.cat/data/dataset/87aa433e-fef8-4ff4-8f9a-d66e9beefff6/resource/172025e0-8348-4376-9266-550a9b227ea4/download/2019_accidents_persones_gu_bcn_.csv\", encoding=\"utf-8\")\n",
    "persones_2018 = pd.read_csv (\"https://opendata-ajuntament.barcelona.cat/data/dataset/87aa433e-fef8-4ff4-8f9a-d66e9beefff6/resource/c6b05180-8084-4d89-a80c-f56de1f8e4de/download/2018_accidents_persones_gu_bcn_.csv\", encoding=\"utf-8\")"
   ]
  },
  {
   "cell_type": "code",
   "execution_count": 29,
   "metadata": {},
   "outputs": [],
   "source": [
    "persones_2020 = persones_2020\\\n",
    "    .rename(columns = {\"Numero_Expedient\":\"Numero_expedient\"})\\\n",
    "    .rename(columns = {\"NK_ Any\":\"NK_Any\"})\\\n",
    "    .rename(columns = {\"Mes_ any\":\"Mes_any\"})\\\n",
    "    .rename(columns = {\"Num_postal\":\"Numero_postal\"})\\\n",
    "    .rename(columns = {\"Descripció_sexe\":\"Descripcio_sexe\"})\\\n",
    "    .rename(columns = {\"Descripció_tipus_persona\":\"Descripcio_tipus_persona\"})\\\n",
    "    .rename(columns = {\"Descripcio_Motiu_desplaĂ§ament_vianant\":\"Descripcio_Motiu_desplacament_vianant\"})\\\n",
    "    .rename(columns = {\"Descripcio_Motiu_desplaĂ§ament_conductor\":\"Descripcio_Motiu_desplacament_conductor\"})\\\n",
    "    .rename(columns = {\"Dia_setmana\":\"Desc_dia_setmana\"})\\\n",
    "    .rename(columns = {\"ID_Dia_setmana\":\"Codi_dia_setmana\"})\n",
    "\n",
    "persones_2019 = persones_2019\\\n",
    "    .rename(columns = {\"Numero_Expedient\":\"Numero_expedient\"})\\\n",
    "    .rename(columns = {\"NK_ Any\":\"NK_Any\"})\\\n",
    "    .rename(columns = {\"Mes_ any\":\"Mes_any\"})\\\n",
    "    .rename(columns = {\"Num_postal\":\"Nom_carrer\"})\\\n",
    "    .rename(columns = {\"Num_postal.1\":\"Numero_postal\"})\\\n",
    "    .rename(columns = {\"Descripció_sexe\":\"Descripcio_sexe\"})\\\n",
    "    .rename(columns = {\"Descripcio_Motiu_desplaçament_vianant\":\"Descripcio_Motiu_desplacament_vianant\"})\\\n",
    "    .rename(columns = {\"Descripcio_Motiu_desplaçament_conductor\":\"Descripcio_Motiu_desplacament_conductor\"})\\\n",
    "    .rename(columns = {\"Dia_setmana\":\"Desc_dia_setmana\"})\\\n",
    "    .rename(columns = {\"ID_Dia_setmana\":\"Codi_dia_setmana\"})\n",
    "\n",
    "persones_2018 = persones_2018\\\n",
    "    .rename(columns = {\"Numero_Expedient\":\"Numero_expedient\"})\\\n",
    "    .rename(columns = {\"Any\":\"NK_Any\"})\\\n",
    "    .rename(columns = {\"Mes_ any\":\"Mes_any\"})\\\n",
    "    .rename(columns = {\"Num_postal \":\"Numero_postal\"})\\\n",
    "    .rename(columns = {\"Descripció_sexe\":\"Descripcio_sexe\"})\\\n",
    "    .rename(columns = {\"Dia_setmana\":\"Desc_dia_setmana\"})\\\n",
    "    .rename(columns = {\"ID_Dia_setmana\":\"Codi_dia_setmana\"})"
   ]
  },
  {
   "cell_type": "code",
   "execution_count": 30,
   "metadata": {},
   "outputs": [],
   "source": [
    "persones_tot = pd.concat([persones_2020, persones_2019, persones_2018])"
   ]
  },
  {
   "cell_type": "code",
   "execution_count": 41,
   "metadata": {},
   "outputs": [
    {
     "data": {
      "text/plain": [
       "Index(['Numero_expedient', 'Desc_Tipus_vehicle_implicat', 'Descripcio_sexe',\n",
       "       'Edat', 'Descripcio_tipus_persona',\n",
       "       'Descripcio_Lloc_atropellament_vianat',\n",
       "       'Descripcio_Motiu_desplacament_vianant',\n",
       "       'Descripcio_Motiu_desplacament_conductor', 'Descripcio_situacio'],\n",
       "      dtype='object')"
      ]
     },
     "execution_count": 41,
     "metadata": {},
     "output_type": "execute_result"
    }
   ],
   "source": [
    "persones_tot.columns"
   ]
  },
  {
   "cell_type": "markdown",
   "metadata": {},
   "source": [
    "# UNION: persones - vehicles"
   ]
  },
  {
   "cell_type": "code",
   "execution_count": 32,
   "metadata": {},
   "outputs": [],
   "source": [
    "vehicles_tot = vehicles_tot.filter([\"Numero_expedient\",'Numero_postal',\n",
    "'Desc_dia_setmana','Descripcio_tipus_vehicle','Descripcio_model',\n",
    "'Descripcio_marca','Descripcio_color','Descripcio_carnet','Antiguitat_carnet'])\n",
    "#vehicles_tot.columns"
   ]
  },
  {
   "cell_type": "code",
   "execution_count": 42,
   "metadata": {},
   "outputs": [],
   "source": [
    "persones_tot = persones_tot.filter([\"Numero_expedient\", \n",
    "        'Desc_Tipus_vehicle_implicat', 'Descripcio_sexe',\n",
    "        'Edat', 'Descripcio_tipus_persona',\n",
    "        'Descripcio_Lloc_atropellament_vianat',\n",
    "        'Descripcio_Motiu_desplacament_vianant',\n",
    "        'Descripcio_Motiu_desplacament_conductor', 'Descripcio_situacio'])\n",
    "#persones_tot.columns"
   ]
  },
  {
   "cell_type": "code",
   "execution_count": 34,
   "metadata": {},
   "outputs": [
    {
     "data": {
      "text/plain": [
       "Index(['Numero_expedient', 'Desc_Tipus_vehicle_implicat', 'Descripcio_sexe',\n",
       "       'Edat', 'Descripcio_tipus_persona',\n",
       "       'Descripcio_Lloc_atropellament_vianat',\n",
       "       'Descripcio_Motiu_desplacament_vianant',\n",
       "       'Descripcio_Motiu_desplacament_conductor', 'Descripcio_situacio',\n",
       "       'Numero_postal', 'Desc_dia_setmana', 'Descripcio_tipus_vehicle',\n",
       "       'Descripcio_model', 'Descripcio_marca', 'Descripcio_color',\n",
       "       'Descripcio_carnet', 'Antiguitat_carnet'],\n",
       "      dtype='object')"
      ]
     },
     "execution_count": 34,
     "metadata": {},
     "output_type": "execute_result"
    }
   ],
   "source": [
    "df_persones_vehicles = pd.merge(persones_tot, vehicles_tot, on='Numero_expedient', how='inner')\n",
    "df_persones_vehicles.columns"
   ]
  },
  {
   "cell_type": "markdown",
   "metadata": {},
   "source": [
    "# export fitxers"
   ]
  },
  {
   "cell_type": "code",
   "execution_count": 43,
   "metadata": {},
   "outputs": [],
   "source": [
    "persones_tot.to_csv(r'C:\\Users\\mirei\\Documents\\00_UOC\\00_master\\M2959 - Visualitzacio de dades\\PRA_2\\df_persones.csv', index = False )\n",
    "vehicles_tot.to_csv(r'C:\\Users\\mirei\\Documents\\00_UOC\\00_master\\M2959 - Visualitzacio de dades\\PRA_2\\df_vehicles.csv', index = False )"
   ]
  },
  {
   "cell_type": "code",
   "execution_count": 36,
   "metadata": {},
   "outputs": [],
   "source": [
    "df_cta.to_csv(r'C:\\Users\\mirei\\Documents\\00_UOC\\00_master\\M2959 - Visualitzacio de dades\\PRA_2\\df_causes_tipus_accidents.csv', index = False )"
   ]
  },
  {
   "cell_type": "code",
   "execution_count": null,
   "metadata": {},
   "outputs": [],
   "source": []
  },
  {
   "cell_type": "markdown",
   "metadata": {},
   "source": [
    "# otros"
   ]
  },
  {
   "cell_type": "code",
   "execution_count": 37,
   "metadata": {},
   "outputs": [],
   "source": [
    "#df_causes_tipus_accidents.groupby([\"Numero_expedient\"])[\"Numero_expedient\"].count().sort_values(ascending = False).head(50)"
   ]
  },
  {
   "cell_type": "code",
   "execution_count": 38,
   "metadata": {},
   "outputs": [],
   "source": [
    "#causes_tot.groupby([\"Numero_expedient\"])[\"Numero_expedient\"].count()"
   ]
  },
  {
   "cell_type": "code",
   "execution_count": 39,
   "metadata": {},
   "outputs": [
    {
     "data": {
      "text/plain": [
       "'\\nimport pandas as pd\\nimport pyspark\\nimport pyspark.sql.functions as F\\n\\n#w = Window.partitionBy(\\'Numero_expedient\\').orderBy(\"index\")\\n\\nexemple1 = df_cta.withColumn(\"Avg\", avg(col(\"Num_lesionats_greus\")).over(w))\\n\\n'"
      ]
     },
     "execution_count": 39,
     "metadata": {},
     "output_type": "execute_result"
    }
   ],
   "source": [
    "\"\"\"\n",
    "import pandas as pd\n",
    "import pyspark\n",
    "import pyspark.sql.functions as F\n",
    "\n",
    "#w = Window.partitionBy('Numero_expedient').orderBy(\"index\")\n",
    "\n",
    "exemple1 = df_cta.withColumn(\"Avg\", avg(col(\"Num_lesionats_greus\")).over(w))\n",
    "\n",
    "\"\"\""
   ]
  },
  {
   "cell_type": "code",
   "execution_count": 40,
   "metadata": {},
   "outputs": [],
   "source": [
    "#df_exemple_1 = df_exemple.groupby(\"Numero_expedient\", as_index = False).agg({\"Descripcio_tipus_accident\": ', '.join}).drop_duplicates()\n",
    "\n",
    "\n",
    "#agg({'text': ' '.join})\n",
    "\n"
   ]
  }
 ],
 "metadata": {
  "interpreter": {
   "hash": "4305528d9d8bcb7018e4e74f9de2b0a3e13a5976a828205cde68fb0b5f8da87f"
  },
  "kernelspec": {
   "display_name": "Python 3 (ipykernel)",
   "language": "python",
   "name": "python3"
  },
  "language_info": {
   "codemirror_mode": {
    "name": "ipython",
    "version": 3
   },
   "file_extension": ".py",
   "mimetype": "text/x-python",
   "name": "python",
   "nbconvert_exporter": "python",
   "pygments_lexer": "ipython3",
   "version": "3.10.0"
  }
 },
 "nbformat": 4,
 "nbformat_minor": 2
}
